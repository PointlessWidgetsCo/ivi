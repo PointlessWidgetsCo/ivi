{
 "cells": [
  {
   "cell_type": "code",
   "execution_count": 22,
   "metadata": {},
   "outputs": [],
   "source": [
    "import pandas as pd"
   ]
  },
  {
   "cell_type": "code",
   "execution_count": 23,
   "metadata": {},
   "outputs": [
    {
     "name": "stderr",
     "output_type": "stream",
     "text": [
      "/Users/xiao/pointlesswidgetsco/projects/ivi/.venv/lib/python3.13/site-packages/openpyxl/worksheet/header_footer.py:48: UserWarning: Cannot parse header or footer so it will be ignored\n",
      "  warn(\"\"\"Cannot parse header or footer so it will be ignored\"\"\")\n"
     ]
    }
   ],
   "source": [
    "ivi2d = pd.read_excel('data/Internet Vacancy Index Feb 2025.xlsx', sheet_name='Seasonally Adjusted', dtype=str, keep_default_na=False)\n",
    "ivi4d = pd.read_excel('data/Internet Vacancies Feb 2025.xlsx', sheet_name='4 digit 3 month average', dtype=str, keep_default_na=False)\n",
    "\n",
    "anzsco = pd.read_csv('out/anzsco.csv', dtype=str)"
   ]
  },
  {
   "cell_type": "code",
   "execution_count": 24,
   "metadata": {},
   "outputs": [
    {
     "data": {
      "application/vnd.microsoft.datawrangler.viewer.v0+json": {
       "columns": [
        {
         "name": "index",
         "rawType": "int64",
         "type": "integer"
        },
        {
         "name": "Level",
         "rawType": "object",
         "type": "string"
        },
        {
         "name": "ANZSCO_CODE",
         "rawType": "object",
         "type": "string"
        },
        {
         "name": "Title",
         "rawType": "object",
         "type": "string"
        },
        {
         "name": "State",
         "rawType": "object",
         "type": "string"
        },
        {
         "name": "Date",
         "rawType": "datetime64[ns]",
         "type": "datetime"
        },
        {
         "name": "Value",
         "rawType": "object",
         "type": "string"
        }
       ],
       "conversionMethod": "pd.DataFrame",
       "ref": "f4556083-8242-47d7-88e1-9cc33ad003e1",
       "rows": [
        [
         "0",
         "1",
         "0",
         "AUSTRALIAN TOTAL",
         "AUST",
         "2006-01-01 00:00:00",
         "212149.766"
        ],
        [
         "1",
         "2",
         "1",
         "MANAGERS",
         "AUST",
         "2006-01-01 00:00:00",
         "20471.54"
        ],
        [
         "2",
         "3",
         "11",
         "Chief Executives, Managing Directors & Legislators",
         "AUST",
         "2006-01-01 00:00:00",
         "502.97"
        ],
        [
         "3",
         "3",
         "12",
         "Farmers and Farm Managers",
         "AUST",
         "2006-01-01 00:00:00",
         "111.85"
        ],
        [
         "4",
         "3",
         "14",
         "Hospitality, Retail and Service Managers",
         "AUST",
         "2006-01-01 00:00:00",
         "4298.75"
        ],
        [
         "5",
         "3",
         "1A",
         "Corporate Managers",
         "AUST",
         "2006-01-01 00:00:00",
         "9148.728"
        ],
        [
         "6",
         "3",
         "1B",
         "Construction, Production and Distribution Managers",
         "AUST",
         "2006-01-01 00:00:00",
         "4767.408"
        ],
        [
         "7",
         "3",
         "1C",
         "Health, Education, ICT and Other Managers",
         "AUST",
         "2006-01-01 00:00:00",
         "1589.635"
        ],
        [
         "8",
         "2",
         "2",
         "PROFESSIONALS",
         "AUST",
         "2006-01-01 00:00:00",
         "48138.183"
        ],
        [
         "9",
         "3",
         "21",
         "Arts and Media Professionals",
         "AUST",
         "2006-01-01 00:00:00",
         "840.752"
        ],
        [
         "10",
         "3",
         "24",
         "Education Professionals",
         "AUST",
         "2006-01-01 00:00:00",
         "1238.597"
        ],
        [
         "11",
         "3",
         "26",
         "ICT Professionals",
         "AUST",
         "2006-01-01 00:00:00",
         "11648.357"
        ],
        [
         "12",
         "3",
         "27",
         "Legal, Social and Welfare Professionals",
         "AUST",
         "2006-01-01 00:00:00",
         "4372.832"
        ],
        [
         "13",
         "3",
         "2A",
         "Business, Finance and Human Resource Professionals",
         "AUST",
         "2006-01-01 00:00:00",
         "15098.816"
        ],
        [
         "14",
         "3",
         "2B",
         "Information Professionals",
         "AUST",
         "2006-01-01 00:00:00",
         "1341.349"
        ],
        [
         "15",
         "3",
         "2C",
         "Sales, Marketing & Public Relations Professionals",
         "AUST",
         "2006-01-01 00:00:00",
         "2470.765"
        ],
        [
         "16",
         "3",
         "2D",
         "Transport and Design Professionals, and Architects",
         "AUST",
         "2006-01-01 00:00:00",
         "1769.895"
        ],
        [
         "17",
         "3",
         "2E",
         "Engineers",
         "AUST",
         "2006-01-01 00:00:00",
         "4564.357"
        ],
        [
         "18",
         "3",
         "2F",
         "Science Professionals and Veterinarians",
         "AUST",
         "2006-01-01 00:00:00",
         "832.384"
        ],
        [
         "19",
         "3",
         "2G",
         "Health Diagnostic and Therapy Professionals",
         "AUST",
         "2006-01-01 00:00:00",
         "1303.591"
        ],
        [
         "20",
         "3",
         "2H",
         "Medical Practitioners and Nurses",
         "AUST",
         "2006-01-01 00:00:00",
         "2617.191"
        ],
        [
         "21",
         "2",
         "3",
         "TECHNICIANS AND TRADES WORKERS",
         "AUST",
         "2006-01-01 00:00:00",
         "24026.439"
        ],
        [
         "22",
         "3",
         "31",
         "Engineering, ICT and Science Technicians",
         "AUST",
         "2006-01-01 00:00:00",
         "5027.087"
        ],
        [
         "23",
         "3",
         "32",
         "Automotive and Engineering Trades Workers",
         "AUST",
         "2006-01-01 00:00:00",
         "6100.041"
        ],
        [
         "24",
         "3",
         "33",
         "Construction Trades Workers",
         "AUST",
         "2006-01-01 00:00:00",
         "2826.504"
        ],
        [
         "25",
         "3",
         "34",
         "Electrotechnology and Telecommunications Trades Workers",
         "AUST",
         "2006-01-01 00:00:00",
         "2411.977"
        ],
        [
         "26",
         "3",
         "35",
         "Food Trades Workers",
         "AUST",
         "2006-01-01 00:00:00",
         "4143.357"
        ],
        [
         "27",
         "3",
         "36",
         "Skilled Animal and Horticultural Workers",
         "AUST",
         "2006-01-01 00:00:00",
         "1051.22"
        ],
        [
         "28",
         "3",
         "3A",
         "Hairdressers, Printing, Clothing and Wood Trades Workers",
         "AUST",
         "2006-01-01 00:00:00",
         "1708.045"
        ],
        [
         "29",
         "3",
         "3B",
         "Jewellers, Arts and Other Trades Workers",
         "AUST",
         "2006-01-01 00:00:00",
         "504.58"
        ],
        [
         "30",
         "2",
         "4",
         "COMMUNITY AND PERSONAL SERVICE WORKERS",
         "AUST",
         "2006-01-01 00:00:00",
         "12553.93"
        ],
        [
         "31",
         "3",
         "41",
         "Health and Welfare Support Workers",
         "AUST",
         "2006-01-01 00:00:00",
         "648.675"
        ],
        [
         "32",
         "3",
         "42",
         "Carers and Aides",
         "AUST",
         "2006-01-01 00:00:00",
         "4063.048"
        ],
        [
         "33",
         "3",
         "43",
         "Hospitality Workers",
         "AUST",
         "2006-01-01 00:00:00",
         "4948.371"
        ],
        [
         "34",
         "3",
         "44",
         "Protective Service Workers",
         "AUST",
         "2006-01-01 00:00:00",
         "1248.015"
        ],
        [
         "35",
         "3",
         "45",
         "Sports, Travel and Personal Service Workers",
         "AUST",
         "2006-01-01 00:00:00",
         "1570.034"
        ],
        [
         "36",
         "2",
         "5",
         "CLERICAL AND ADMINISTRATIVE WORKERS",
         "AUST",
         "2006-01-01 00:00:00",
         "41348.586"
        ],
        [
         "37",
         "3",
         "55",
         "Numerical Clerks",
         "AUST",
         "2006-01-01 00:00:00",
         "10323.263"
        ],
        [
         "38",
         "3",
         "56",
         "Clerical and Office Support Workers",
         "AUST",
         "2006-01-01 00:00:00",
         "946.754"
        ],
        [
         "39",
         "3",
         "59",
         "Other Clerical and Administrative Workers",
         "AUST",
         "2006-01-01 00:00:00",
         "4419.074"
        ],
        [
         "40",
         "3",
         "5A",
         "Office Managers, Administrators and Secretaries",
         "AUST",
         "2006-01-01 00:00:00",
         "6836.713"
        ],
        [
         "41",
         "3",
         "5B",
         "General-Inquiry Clerks, Call Centre Workers, and Receptionists",
         "AUST",
         "2006-01-01 00:00:00",
         "18794.339"
        ],
        [
         "42",
         "2",
         "6",
         "SALES WORKERS",
         "AUST",
         "2006-01-01 00:00:00",
         "23224.74"
        ],
        [
         "43",
         "3",
         "61",
         "Sales Representatives and Agents",
         "AUST",
         "2006-01-01 00:00:00",
         "7035.321"
        ],
        [
         "44",
         "3",
         "62",
         "Sales Assistants and Salespersons",
         "AUST",
         "2006-01-01 00:00:00",
         "13490.787"
        ],
        [
         "45",
         "3",
         "63",
         "Sales Support Workers",
         "AUST",
         "2006-01-01 00:00:00",
         "2668.594"
        ],
        [
         "46",
         "2",
         "7",
         "MACHINERY OPERATORS AND DRIVERS",
         "AUST",
         "2006-01-01 00:00:00",
         "12666.789"
        ],
        [
         "47",
         "3",
         "71",
         "Machine and Stationary Plant Operators",
         "AUST",
         "2006-01-01 00:00:00",
         "2382.491"
        ],
        [
         "48",
         "3",
         "72",
         "Mobile Plant Operators",
         "AUST",
         "2006-01-01 00:00:00",
         "2289.413"
        ],
        [
         "49",
         "3",
         "7A",
         "Drivers and Storepersons",
         "AUST",
         "2006-01-01 00:00:00",
         "7977.859"
        ]
       ],
       "shape": {
        "columns": 6,
        "rows": 117990
       }
      },
      "text/html": [
       "<div>\n",
       "<style scoped>\n",
       "    .dataframe tbody tr th:only-of-type {\n",
       "        vertical-align: middle;\n",
       "    }\n",
       "\n",
       "    .dataframe tbody tr th {\n",
       "        vertical-align: top;\n",
       "    }\n",
       "\n",
       "    .dataframe thead th {\n",
       "        text-align: right;\n",
       "    }\n",
       "</style>\n",
       "<table border=\"1\" class=\"dataframe\">\n",
       "  <thead>\n",
       "    <tr style=\"text-align: right;\">\n",
       "      <th></th>\n",
       "      <th>Level</th>\n",
       "      <th>ANZSCO_CODE</th>\n",
       "      <th>Title</th>\n",
       "      <th>State</th>\n",
       "      <th>Date</th>\n",
       "      <th>Value</th>\n",
       "    </tr>\n",
       "  </thead>\n",
       "  <tbody>\n",
       "    <tr>\n",
       "      <th>0</th>\n",
       "      <td>1</td>\n",
       "      <td>0</td>\n",
       "      <td>AUSTRALIAN TOTAL</td>\n",
       "      <td>AUST</td>\n",
       "      <td>2006-01-01</td>\n",
       "      <td>212149.766</td>\n",
       "    </tr>\n",
       "    <tr>\n",
       "      <th>1</th>\n",
       "      <td>2</td>\n",
       "      <td>1</td>\n",
       "      <td>MANAGERS</td>\n",
       "      <td>AUST</td>\n",
       "      <td>2006-01-01</td>\n",
       "      <td>20471.54</td>\n",
       "    </tr>\n",
       "    <tr>\n",
       "      <th>2</th>\n",
       "      <td>3</td>\n",
       "      <td>11</td>\n",
       "      <td>Chief Executives, Managing Directors &amp; Legisla...</td>\n",
       "      <td>AUST</td>\n",
       "      <td>2006-01-01</td>\n",
       "      <td>502.97</td>\n",
       "    </tr>\n",
       "    <tr>\n",
       "      <th>3</th>\n",
       "      <td>3</td>\n",
       "      <td>12</td>\n",
       "      <td>Farmers and Farm Managers</td>\n",
       "      <td>AUST</td>\n",
       "      <td>2006-01-01</td>\n",
       "      <td>111.85</td>\n",
       "    </tr>\n",
       "    <tr>\n",
       "      <th>4</th>\n",
       "      <td>3</td>\n",
       "      <td>14</td>\n",
       "      <td>Hospitality, Retail and Service Managers</td>\n",
       "      <td>AUST</td>\n",
       "      <td>2006-01-01</td>\n",
       "      <td>4298.75</td>\n",
       "    </tr>\n",
       "    <tr>\n",
       "      <th>...</th>\n",
       "      <td>...</td>\n",
       "      <td>...</td>\n",
       "      <td>...</td>\n",
       "      <td>...</td>\n",
       "      <td>...</td>\n",
       "      <td>...</td>\n",
       "    </tr>\n",
       "    <tr>\n",
       "      <th>117985</th>\n",
       "      <td>3</td>\n",
       "      <td>82</td>\n",
       "      <td>Construction and Mining Labourers</td>\n",
       "      <td>ACT</td>\n",
       "      <td>2025-02-01</td>\n",
       "      <td>14.317</td>\n",
       "    </tr>\n",
       "    <tr>\n",
       "      <th>117986</th>\n",
       "      <td>3</td>\n",
       "      <td>83</td>\n",
       "      <td>Factory Process Workers</td>\n",
       "      <td>ACT</td>\n",
       "      <td>2025-02-01</td>\n",
       "      <td>58.648</td>\n",
       "    </tr>\n",
       "    <tr>\n",
       "      <th>117987</th>\n",
       "      <td>3</td>\n",
       "      <td>84</td>\n",
       "      <td>Farm, Forestry and Garden Workers</td>\n",
       "      <td>ACT</td>\n",
       "      <td>2025-02-01</td>\n",
       "      <td>10.586</td>\n",
       "    </tr>\n",
       "    <tr>\n",
       "      <th>117988</th>\n",
       "      <td>3</td>\n",
       "      <td>85</td>\n",
       "      <td>Food Preparation Assistants</td>\n",
       "      <td>ACT</td>\n",
       "      <td>2025-02-01</td>\n",
       "      <td>14.398</td>\n",
       "    </tr>\n",
       "    <tr>\n",
       "      <th>117989</th>\n",
       "      <td>3</td>\n",
       "      <td>89</td>\n",
       "      <td>Other Labourers</td>\n",
       "      <td>ACT</td>\n",
       "      <td>2025-02-01</td>\n",
       "      <td>54.356</td>\n",
       "    </tr>\n",
       "  </tbody>\n",
       "</table>\n",
       "<p>117990 rows × 6 columns</p>\n",
       "</div>"
      ],
      "text/plain": [
       "       Level ANZSCO_CODE                                              Title  \\\n",
       "0          1           0                                   AUSTRALIAN TOTAL   \n",
       "1          2           1                                           MANAGERS   \n",
       "2          3          11  Chief Executives, Managing Directors & Legisla...   \n",
       "3          3          12                          Farmers and Farm Managers   \n",
       "4          3          14           Hospitality, Retail and Service Managers   \n",
       "...      ...         ...                                                ...   \n",
       "117985     3          82                  Construction and Mining Labourers   \n",
       "117986     3          83                            Factory Process Workers   \n",
       "117987     3          84                  Farm, Forestry and Garden Workers   \n",
       "117988     3          85                        Food Preparation Assistants   \n",
       "117989     3          89                                    Other Labourers   \n",
       "\n",
       "       State       Date       Value  \n",
       "0       AUST 2006-01-01  212149.766  \n",
       "1       AUST 2006-01-01    20471.54  \n",
       "2       AUST 2006-01-01      502.97  \n",
       "3       AUST 2006-01-01      111.85  \n",
       "4       AUST 2006-01-01     4298.75  \n",
       "...      ...        ...         ...  \n",
       "117985   ACT 2025-02-01      14.317  \n",
       "117986   ACT 2025-02-01      58.648  \n",
       "117987   ACT 2025-02-01      10.586  \n",
       "117988   ACT 2025-02-01      14.398  \n",
       "117989   ACT 2025-02-01      54.356  \n",
       "\n",
       "[117990 rows x 6 columns]"
      ]
     },
     "execution_count": 24,
     "metadata": {},
     "output_type": "execute_result"
    }
   ],
   "source": [
    "val_vars = ['Level', 'ANZSCO_CODE', 'Title', 'State']\n",
    "other_vars = ivi2d.columns.difference(val_vars)\n",
    "\n",
    "ivi2d = ivi2d.melt(id_vars=val_vars, value_vars=other_vars, var_name='Date', value_name='Value')\n",
    "\n",
    "# Convert the date column to date format\n",
    "ivi2d['Date'] = pd.to_datetime(ivi2d['Date'])\n",
    "\n",
    "ivi2d"
   ]
  },
  {
   "cell_type": "code",
   "execution_count": 25,
   "metadata": {},
   "outputs": [
    {
     "data": {
      "application/vnd.microsoft.datawrangler.viewer.v0+json": {
       "columns": [
        {
         "name": "index",
         "rawType": "int64",
         "type": "integer"
        },
        {
         "name": "ANZSCO_CODE",
         "rawType": "object",
         "type": "string"
        },
        {
         "name": "Title",
         "rawType": "object",
         "type": "string"
        },
        {
         "name": "State",
         "rawType": "object",
         "type": "string"
        },
        {
         "name": "Date",
         "rawType": "datetime64[ns]",
         "type": "datetime"
        },
        {
         "name": "Value",
         "rawType": "object",
         "type": "string"
        }
       ],
       "conversionMethod": "pd.DataFrame",
       "ref": "d8d378e9-0c9e-47ce-934a-192c7c2c5253",
       "rows": [
        [
         "0",
         "0",
         "Australia Total",
         "AUST",
         "2006-03-01 00:00:00",
         "214668.935"
        ],
        [
         "1",
         "1111",
         "Chief Executives and Managing Directors",
         "AUST",
         "2006-03-01 00:00:00",
         "158.85257"
        ],
        [
         "2",
         "1112",
         "General Managers",
         "AUST",
         "2006-03-01 00:00:00",
         "308.89479"
        ],
        [
         "3",
         ".",
         "Legislators",
         "AUST",
         "2006-03-01 00:00:00",
         "."
        ],
        [
         "4",
         "1211",
         "Aquaculture Farmers",
         "AUST",
         "2006-03-01 00:00:00",
         "0.66667"
        ],
        [
         "5",
         "1212",
         "Crop Farmers",
         "AUST",
         "2006-03-01 00:00:00",
         "25.73919"
        ],
        [
         "6",
         "1213",
         "Livestock Farmers",
         "AUST",
         "2006-03-01 00:00:00",
         "35.16922"
        ],
        [
         "7",
         "1214",
         "Mixed Crop and Livestock Farmers",
         "AUST",
         "2006-03-01 00:00:00",
         "69.78754"
        ],
        [
         "8",
         "1311",
         "Advertising and Sales Managers",
         "AUST",
         "2006-03-01 00:00:00",
         "6397.50242"
        ],
        [
         "9",
         "1321",
         "Corporate Services Managers",
         "AUST",
         "2006-03-01 00:00:00",
         "543.75757"
        ],
        [
         "10",
         "1322",
         "Finance Managers",
         "AUST",
         "2006-03-01 00:00:00",
         "1059.56246"
        ],
        [
         "11",
         "1323",
         "Human Resource Managers",
         "AUST",
         "2006-03-01 00:00:00",
         "460.86346"
        ],
        [
         "12",
         "1324",
         "Policy and Planning Managers",
         "AUST",
         "2006-03-01 00:00:00",
         "788.41436"
        ],
        [
         "13",
         "1325",
         "Research and Development Managers",
         "AUST",
         "2006-03-01 00:00:00",
         "102.5332"
        ],
        [
         "14",
         "1331",
         "Construction Managers",
         "AUST",
         "2006-03-01 00:00:00",
         "3283.447"
        ],
        [
         "15",
         "1332",
         "Engineering Managers",
         "AUST",
         "2006-03-01 00:00:00",
         "650.95096"
        ],
        [
         "16",
         "1333",
         "Importers, Exporters and Wholesalers",
         "AUST",
         "2006-03-01 00:00:00",
         "41.1413"
        ],
        [
         "17",
         "1334",
         "Manufacturers",
         "AUST",
         "2006-03-01 00:00:00",
         "18.08274"
        ],
        [
         "18",
         "1335",
         "Production Managers",
         "AUST",
         "2006-03-01 00:00:00",
         "684.85563"
        ],
        [
         "19",
         "1336",
         "Supply, Distribution and Procurement Managers",
         "AUST",
         "2006-03-01 00:00:00",
         "254.52332"
        ],
        [
         "20",
         "1341",
         "Child Care Centre Managers",
         "AUST",
         "2006-03-01 00:00:00",
         "64.17943"
        ],
        [
         "21",
         "1342",
         "Health and Welfare Services Managers",
         "AUST",
         "2006-03-01 00:00:00",
         "86.22914"
        ],
        [
         "22",
         "1343",
         "School Principals",
         "AUST",
         "2006-03-01 00:00:00",
         "26.12598"
        ],
        [
         "23",
         "1344",
         "Other Education Managers",
         "AUST",
         "2006-03-01 00:00:00",
         "45.25196"
        ],
        [
         "24",
         "1351",
         "ICT Managers",
         "AUST",
         "2006-03-01 00:00:00",
         "1040.99693"
        ],
        [
         "25",
         ".",
         "Commissioned Officers (Management)",
         "AUST",
         "2006-03-01 00:00:00",
         "."
        ],
        [
         "26",
         ".",
         "Senior Non-commissioned Defence Force Members",
         "AUST",
         "2006-03-01 00:00:00",
         "."
        ],
        [
         "27",
         "1399",
         "Other Specialist Managers",
         "AUST",
         "2006-03-01 00:00:00",
         "380.0463"
        ],
        [
         "28",
         "1411",
         "Cafe and Restaurant Managers",
         "AUST",
         "2006-03-01 00:00:00",
         "246.79026"
        ],
        [
         "29",
         "1412",
         "Caravan Park and Camping Ground Managers",
         "AUST",
         "2006-03-01 00:00:00",
         "17.07252"
        ],
        [
         "30",
         "1413",
         "Hotel and Motel Managers",
         "AUST",
         "2006-03-01 00:00:00",
         "233.40858"
        ],
        [
         "31",
         "1414",
         "Licensed Club Managers",
         "AUST",
         "2006-03-01 00:00:00",
         "38.17433"
        ],
        [
         "32",
         "1419",
         "Other Accommodation and Hospitality Managers",
         "AUST",
         "2006-03-01 00:00:00",
         "16.24174"
        ],
        [
         "33",
         "1421",
         "Retail Managers",
         "AUST",
         "2006-03-01 00:00:00",
         "2351.90737"
        ],
        [
         "34",
         "1491",
         "Amusement, Fitness and Sports Centre Managers",
         "AUST",
         "2006-03-01 00:00:00",
         "24.00511"
        ],
        [
         "35",
         "1492",
         "Call or Contact Centre and Customer Service Managers",
         "AUST",
         "2006-03-01 00:00:00",
         "656.57031"
        ],
        [
         "36",
         "1493",
         "Conference and Event Organisers",
         "AUST",
         "2006-03-01 00:00:00",
         "208.62104"
        ],
        [
         "37",
         "1494",
         "Transport Services Managers",
         "AUST",
         "2006-03-01 00:00:00",
         "237.81307"
        ],
        [
         "38",
         "1499",
         "Other Hospitality, Retail and Service Managers",
         "AUST",
         "2006-03-01 00:00:00",
         "462.1355"
        ],
        [
         "39",
         "2111",
         "Actors, Dancers and Other Entertainers",
         "AUST",
         "2006-03-01 00:00:00",
         "280.667"
        ],
        [
         "40",
         "2112",
         "Music Professionals",
         "AUST",
         "2006-03-01 00:00:00",
         "32.62343"
        ],
        [
         "41",
         "2113",
         "Photographers",
         "AUST",
         "2006-03-01 00:00:00",
         "47.91352"
        ],
        [
         "42",
         "2114",
         "Visual Arts and Crafts Professionals",
         "AUST",
         "2006-03-01 00:00:00",
         "5.4542"
        ],
        [
         "43",
         "2121",
         "Artistic Directors, and Media Producers and Presenters",
         "AUST",
         "2006-03-01 00:00:00",
         "28.27613"
        ],
        [
         "44",
         "2122",
         "Authors, and Book and Script Editors",
         "AUST",
         "2006-03-01 00:00:00",
         "31.18965"
        ],
        [
         "45",
         "2123",
         "Film, Television, Radio and Stage Directors",
         "AUST",
         "2006-03-01 00:00:00",
         "19.98093"
        ],
        [
         "46",
         "2124",
         "Journalists and Other Writers",
         "AUST",
         "2006-03-01 00:00:00",
         "476.64691"
        ],
        [
         "47",
         "2211",
         "Accountants",
         "AUST",
         "2006-03-01 00:00:00",
         "7802.49354"
        ],
        [
         "48",
         "2212",
         "Auditors, Company Secretaries and Corporate Treasurers",
         "AUST",
         "2006-03-01 00:00:00",
         "1256.51206"
        ],
        [
         "49",
         "2221",
         "Financial Brokers",
         "AUST",
         "2006-03-01 00:00:00",
         "461.46748"
        ]
       ],
       "shape": {
        "columns": 5,
        "rows": 736668
       }
      },
      "text/html": [
       "<div>\n",
       "<style scoped>\n",
       "    .dataframe tbody tr th:only-of-type {\n",
       "        vertical-align: middle;\n",
       "    }\n",
       "\n",
       "    .dataframe tbody tr th {\n",
       "        vertical-align: top;\n",
       "    }\n",
       "\n",
       "    .dataframe thead th {\n",
       "        text-align: right;\n",
       "    }\n",
       "</style>\n",
       "<table border=\"1\" class=\"dataframe\">\n",
       "  <thead>\n",
       "    <tr style=\"text-align: right;\">\n",
       "      <th></th>\n",
       "      <th>ANZSCO_CODE</th>\n",
       "      <th>Title</th>\n",
       "      <th>State</th>\n",
       "      <th>Date</th>\n",
       "      <th>Value</th>\n",
       "    </tr>\n",
       "  </thead>\n",
       "  <tbody>\n",
       "    <tr>\n",
       "      <th>0</th>\n",
       "      <td>0</td>\n",
       "      <td>Australia Total</td>\n",
       "      <td>AUST</td>\n",
       "      <td>2006-03-01</td>\n",
       "      <td>214668.935</td>\n",
       "    </tr>\n",
       "    <tr>\n",
       "      <th>1</th>\n",
       "      <td>1111</td>\n",
       "      <td>Chief Executives and Managing Directors</td>\n",
       "      <td>AUST</td>\n",
       "      <td>2006-03-01</td>\n",
       "      <td>158.85257</td>\n",
       "    </tr>\n",
       "    <tr>\n",
       "      <th>2</th>\n",
       "      <td>1112</td>\n",
       "      <td>General Managers</td>\n",
       "      <td>AUST</td>\n",
       "      <td>2006-03-01</td>\n",
       "      <td>308.89479</td>\n",
       "    </tr>\n",
       "    <tr>\n",
       "      <th>3</th>\n",
       "      <td>.</td>\n",
       "      <td>Legislators</td>\n",
       "      <td>AUST</td>\n",
       "      <td>2006-03-01</td>\n",
       "      <td>.</td>\n",
       "    </tr>\n",
       "    <tr>\n",
       "      <th>4</th>\n",
       "      <td>1211</td>\n",
       "      <td>Aquaculture Farmers</td>\n",
       "      <td>AUST</td>\n",
       "      <td>2006-03-01</td>\n",
       "      <td>0.66667</td>\n",
       "    </tr>\n",
       "    <tr>\n",
       "      <th>...</th>\n",
       "      <td>...</td>\n",
       "      <td>...</td>\n",
       "      <td>...</td>\n",
       "      <td>...</td>\n",
       "      <td>...</td>\n",
       "    </tr>\n",
       "    <tr>\n",
       "      <th>736663</th>\n",
       "      <td>8994</td>\n",
       "      <td>Motor Vehicle Parts and Accessories Fitters</td>\n",
       "      <td>ACT</td>\n",
       "      <td>2025-02-01</td>\n",
       "      <td>4</td>\n",
       "    </tr>\n",
       "    <tr>\n",
       "      <th>736664</th>\n",
       "      <td>8995</td>\n",
       "      <td>Printing Assistants and Table Workers</td>\n",
       "      <td>ACT</td>\n",
       "      <td>2025-02-01</td>\n",
       "      <td>0</td>\n",
       "    </tr>\n",
       "    <tr>\n",
       "      <th>736665</th>\n",
       "      <td>8996</td>\n",
       "      <td>Recycling and Rubbish Collectors</td>\n",
       "      <td>ACT</td>\n",
       "      <td>2025-02-01</td>\n",
       "      <td>0</td>\n",
       "    </tr>\n",
       "    <tr>\n",
       "      <th>736666</th>\n",
       "      <td>8997</td>\n",
       "      <td>Vending Machine Attendants</td>\n",
       "      <td>ACT</td>\n",
       "      <td>2025-02-01</td>\n",
       "      <td>0.66667</td>\n",
       "    </tr>\n",
       "    <tr>\n",
       "      <th>736667</th>\n",
       "      <td>8999</td>\n",
       "      <td>Other Miscellaneous Labourers</td>\n",
       "      <td>ACT</td>\n",
       "      <td>2025-02-01</td>\n",
       "      <td>36.66667</td>\n",
       "    </tr>\n",
       "  </tbody>\n",
       "</table>\n",
       "<p>736668 rows × 5 columns</p>\n",
       "</div>"
      ],
      "text/plain": [
       "       ANZSCO_CODE                                        Title State  \\\n",
       "0                0                              Australia Total  AUST   \n",
       "1             1111      Chief Executives and Managing Directors  AUST   \n",
       "2             1112                             General Managers  AUST   \n",
       "3                .                                  Legislators  AUST   \n",
       "4             1211                          Aquaculture Farmers  AUST   \n",
       "...            ...                                          ...   ...   \n",
       "736663        8994  Motor Vehicle Parts and Accessories Fitters   ACT   \n",
       "736664        8995        Printing Assistants and Table Workers   ACT   \n",
       "736665        8996             Recycling and Rubbish Collectors   ACT   \n",
       "736666        8997                   Vending Machine Attendants   ACT   \n",
       "736667        8999                Other Miscellaneous Labourers   ACT   \n",
       "\n",
       "             Date       Value  \n",
       "0      2006-03-01  214668.935  \n",
       "1      2006-03-01   158.85257  \n",
       "2      2006-03-01   308.89479  \n",
       "3      2006-03-01           .  \n",
       "4      2006-03-01     0.66667  \n",
       "...           ...         ...  \n",
       "736663 2025-02-01           4  \n",
       "736664 2025-02-01           0  \n",
       "736665 2025-02-01           0  \n",
       "736666 2025-02-01     0.66667  \n",
       "736667 2025-02-01    36.66667  \n",
       "\n",
       "[736668 rows x 5 columns]"
      ]
     },
     "execution_count": 25,
     "metadata": {},
     "output_type": "execute_result"
    }
   ],
   "source": [
    "val_vars = ['ANZSCO_CODE', 'ANZSCO_TITLE', 'state']\n",
    "other_vars = ivi4d.columns.difference(val_vars)\n",
    "\n",
    "ivi4d = ivi4d.melt(id_vars=val_vars, value_vars=other_vars, var_name='Date', value_name='Value')\n",
    "\n",
    "ivi4d = ivi4d.rename(columns={'ANZSCO_TITLE':'Title', 'state':'State'})\n",
    "\n",
    "# Convert the date column to date format\n",
    "ivi4d['Date'] = pd.to_datetime(ivi4d['Date'])\n",
    "\n",
    "ivi4d"
   ]
  },
  {
   "cell_type": "code",
   "execution_count": 26,
   "metadata": {},
   "outputs": [],
   "source": [
    "# Vacancies\n",
    "vacs = {}\n",
    "\n",
    "# Filter to keep only 1-digit numbers\n",
    "vacs['1'] = ivi2d[ivi2d['ANZSCO_CODE'].astype(str).str.len() == 1]\n",
    "\n",
    "# Filter to keep only 2-digit numbers\n",
    "vacs['2'] = ivi2d[ivi2d['ANZSCO_CODE'].astype(str).str.len() == 2]\n",
    "\n",
    "# Filter to keep only 4-digit numbers\n",
    "vacs['4'] = ivi4d[ivi4d['ANZSCO_CODE'].astype(str).str.len() == 4]"
   ]
  },
  {
   "cell_type": "code",
   "execution_count": 27,
   "metadata": {},
   "outputs": [
    {
     "data": {
      "application/vnd.microsoft.datawrangler.viewer.v0+json": {
       "columns": [
        {
         "name": "index",
         "rawType": "int64",
         "type": "integer"
        },
        {
         "name": "State",
         "rawType": "object",
         "type": "string"
        },
        {
         "name": "Date",
         "rawType": "datetime64[ns]",
         "type": "datetime"
        },
        {
         "name": "Value",
         "rawType": "object",
         "type": "string"
        }
       ],
       "conversionMethod": "pd.DataFrame",
       "ref": "d35e052d-adc0-433d-b5d9-2744b021ab06",
       "rows": [
        [
         "456",
         "ACT",
         "2006-01-01 00:00:00",
         "3135.901"
        ],
        [
         "969",
         "ACT",
         "2006-02-01 00:00:00",
         "3327.193"
        ],
        [
         "1482",
         "ACT",
         "2006-03-01 00:00:00",
         "3496.769"
        ],
        [
         "1995",
         "ACT",
         "2006-04-01 00:00:00",
         "3494.771"
        ],
        [
         "2508",
         "ACT",
         "2006-05-01 00:00:00",
         "3672.584"
        ],
        [
         "3021",
         "ACT",
         "2006-06-01 00:00:00",
         "3726.037"
        ],
        [
         "3534",
         "ACT",
         "2006-07-01 00:00:00",
         "3613.931"
        ],
        [
         "4047",
         "ACT",
         "2006-08-01 00:00:00",
         "3589.417"
        ],
        [
         "4560",
         "ACT",
         "2006-09-01 00:00:00",
         "3767.002"
        ],
        [
         "5073",
         "ACT",
         "2006-10-01 00:00:00",
         "4013.764"
        ],
        [
         "5586",
         "ACT",
         "2006-11-01 00:00:00",
         "3982.228"
        ],
        [
         "6099",
         "ACT",
         "2006-12-01 00:00:00",
         "3844.062"
        ],
        [
         "6612",
         "ACT",
         "2007-01-01 00:00:00",
         "4164.906"
        ],
        [
         "7125",
         "ACT",
         "2007-02-01 00:00:00",
         "4364.614"
        ],
        [
         "7638",
         "ACT",
         "2007-03-01 00:00:00",
         "4347.364"
        ],
        [
         "8151",
         "ACT",
         "2007-04-01 00:00:00",
         "4537.085"
        ],
        [
         "8664",
         "ACT",
         "2007-05-01 00:00:00",
         "4495.984"
        ],
        [
         "9177",
         "ACT",
         "2007-06-01 00:00:00",
         "4425.455"
        ],
        [
         "9690",
         "ACT",
         "2007-07-01 00:00:00",
         "4617.507"
        ],
        [
         "10203",
         "ACT",
         "2007-08-01 00:00:00",
         "4536.973"
        ],
        [
         "10716",
         "ACT",
         "2007-09-01 00:00:00",
         "4394.001"
        ],
        [
         "11229",
         "ACT",
         "2007-10-01 00:00:00",
         "4336.044"
        ],
        [
         "11742",
         "ACT",
         "2007-11-01 00:00:00",
         "4412.171"
        ],
        [
         "12255",
         "ACT",
         "2007-12-01 00:00:00",
         "4667.853"
        ],
        [
         "12768",
         "ACT",
         "2008-01-01 00:00:00",
         "4723.704"
        ],
        [
         "13281",
         "ACT",
         "2008-02-01 00:00:00",
         "4354.085"
        ],
        [
         "13794",
         "ACT",
         "2008-03-01 00:00:00",
         "4731.699"
        ],
        [
         "14307",
         "ACT",
         "2008-04-01 00:00:00",
         "4607.637"
        ],
        [
         "14820",
         "ACT",
         "2008-05-01 00:00:00",
         "4678.024"
        ],
        [
         "15333",
         "ACT",
         "2008-06-01 00:00:00",
         "5367.279"
        ],
        [
         "15846",
         "ACT",
         "2008-07-01 00:00:00",
         "5295.39"
        ],
        [
         "16359",
         "ACT",
         "2008-08-01 00:00:00",
         "5297.734"
        ],
        [
         "16872",
         "ACT",
         "2008-09-01 00:00:00",
         "5323.808"
        ],
        [
         "17385",
         "ACT",
         "2008-10-01 00:00:00",
         "5379.473"
        ],
        [
         "17898",
         "ACT",
         "2008-11-01 00:00:00",
         "5399.768"
        ],
        [
         "18411",
         "ACT",
         "2008-12-01 00:00:00",
         "5179.548"
        ],
        [
         "18924",
         "ACT",
         "2009-01-01 00:00:00",
         "4554.525"
        ],
        [
         "19437",
         "ACT",
         "2009-02-01 00:00:00",
         "4611.267"
        ],
        [
         "19950",
         "ACT",
         "2009-03-01 00:00:00",
         "4205.026"
        ],
        [
         "20463",
         "ACT",
         "2009-04-01 00:00:00",
         "4356.231"
        ],
        [
         "20976",
         "ACT",
         "2009-05-01 00:00:00",
         "4283.642"
        ],
        [
         "21489",
         "ACT",
         "2009-06-01 00:00:00",
         "3132.831"
        ],
        [
         "22002",
         "ACT",
         "2009-07-01 00:00:00",
         "4594.948"
        ],
        [
         "22515",
         "ACT",
         "2009-08-01 00:00:00",
         "4322.664"
        ],
        [
         "23028",
         "ACT",
         "2009-09-01 00:00:00",
         "4327.899"
        ],
        [
         "23541",
         "ACT",
         "2009-10-01 00:00:00",
         "4062.554"
        ],
        [
         "24054",
         "ACT",
         "2009-11-01 00:00:00",
         "3909.494"
        ],
        [
         "24567",
         "ACT",
         "2009-12-01 00:00:00",
         "3921.291"
        ],
        [
         "25080",
         "ACT",
         "2010-01-01 00:00:00",
         "4349.493"
        ],
        [
         "25593",
         "ACT",
         "2010-02-01 00:00:00",
         "4639.434"
        ]
       ],
       "shape": {
        "columns": 3,
        "rows": 2070
       }
      },
      "text/html": [
       "<div>\n",
       "<style scoped>\n",
       "    .dataframe tbody tr th:only-of-type {\n",
       "        vertical-align: middle;\n",
       "    }\n",
       "\n",
       "    .dataframe tbody tr th {\n",
       "        vertical-align: top;\n",
       "    }\n",
       "\n",
       "    .dataframe thead th {\n",
       "        text-align: right;\n",
       "    }\n",
       "</style>\n",
       "<table border=\"1\" class=\"dataframe\">\n",
       "  <thead>\n",
       "    <tr style=\"text-align: right;\">\n",
       "      <th></th>\n",
       "      <th>State</th>\n",
       "      <th>Date</th>\n",
       "      <th>Value</th>\n",
       "    </tr>\n",
       "  </thead>\n",
       "  <tbody>\n",
       "    <tr>\n",
       "      <th>456</th>\n",
       "      <td>ACT</td>\n",
       "      <td>2006-01-01</td>\n",
       "      <td>3135.901</td>\n",
       "    </tr>\n",
       "    <tr>\n",
       "      <th>969</th>\n",
       "      <td>ACT</td>\n",
       "      <td>2006-02-01</td>\n",
       "      <td>3327.193</td>\n",
       "    </tr>\n",
       "    <tr>\n",
       "      <th>1482</th>\n",
       "      <td>ACT</td>\n",
       "      <td>2006-03-01</td>\n",
       "      <td>3496.769</td>\n",
       "    </tr>\n",
       "    <tr>\n",
       "      <th>1995</th>\n",
       "      <td>ACT</td>\n",
       "      <td>2006-04-01</td>\n",
       "      <td>3494.771</td>\n",
       "    </tr>\n",
       "    <tr>\n",
       "      <th>2508</th>\n",
       "      <td>ACT</td>\n",
       "      <td>2006-05-01</td>\n",
       "      <td>3672.584</td>\n",
       "    </tr>\n",
       "    <tr>\n",
       "      <th>...</th>\n",
       "      <td>...</td>\n",
       "      <td>...</td>\n",
       "      <td>...</td>\n",
       "    </tr>\n",
       "    <tr>\n",
       "      <th>115710</th>\n",
       "      <td>WA</td>\n",
       "      <td>2024-10-01</td>\n",
       "      <td>27760.25</td>\n",
       "    </tr>\n",
       "    <tr>\n",
       "      <th>116223</th>\n",
       "      <td>WA</td>\n",
       "      <td>2024-11-01</td>\n",
       "      <td>26450.952</td>\n",
       "    </tr>\n",
       "    <tr>\n",
       "      <th>116736</th>\n",
       "      <td>WA</td>\n",
       "      <td>2024-12-01</td>\n",
       "      <td>25999.967</td>\n",
       "    </tr>\n",
       "    <tr>\n",
       "      <th>117249</th>\n",
       "      <td>WA</td>\n",
       "      <td>2025-01-01</td>\n",
       "      <td>26931.78</td>\n",
       "    </tr>\n",
       "    <tr>\n",
       "      <th>117762</th>\n",
       "      <td>WA</td>\n",
       "      <td>2025-02-01</td>\n",
       "      <td>26225.385</td>\n",
       "    </tr>\n",
       "  </tbody>\n",
       "</table>\n",
       "<p>2070 rows × 3 columns</p>\n",
       "</div>"
      ],
      "text/plain": [
       "       State       Date      Value\n",
       "456      ACT 2006-01-01   3135.901\n",
       "969      ACT 2006-02-01   3327.193\n",
       "1482     ACT 2006-03-01   3496.769\n",
       "1995     ACT 2006-04-01   3494.771\n",
       "2508     ACT 2006-05-01   3672.584\n",
       "...      ...        ...        ...\n",
       "115710    WA 2024-10-01   27760.25\n",
       "116223    WA 2024-11-01  26450.952\n",
       "116736    WA 2024-12-01  25999.967\n",
       "117249    WA 2025-01-01   26931.78\n",
       "117762    WA 2025-02-01  26225.385\n",
       "\n",
       "[2070 rows x 3 columns]"
      ]
     },
     "execution_count": 27,
     "metadata": {},
     "output_type": "execute_result"
    }
   ],
   "source": [
    "# Aust/State aggregate - Trend analysis\n",
    "vacancies_agg = vacs['1'][vacs['1']['ANZSCO_CODE']=='0'][['State','Date','Value']]\n",
    "vacancies_agg = vacancies_agg.sort_values(['State','Date'])\n",
    "vacancies_agg"
   ]
  },
  {
   "cell_type": "code",
   "execution_count": 28,
   "metadata": {},
   "outputs": [],
   "source": [
    "vacancies_agg.to_csv('out/vacancies_agg.csv', index=False)"
   ]
  },
  {
   "cell_type": "code",
   "execution_count": 29,
   "metadata": {},
   "outputs": [],
   "source": [
    "anzsco['Code'] = anzsco['Code'].str[:4]\n",
    "\n",
    "anzsco_ = anzsco[['Code','Unit group', 'Minor group', 'Submajor group', 'Major group']].drop_duplicates()"
   ]
  },
  {
   "cell_type": "code",
   "execution_count": 30,
   "metadata": {},
   "outputs": [],
   "source": [
    "vacancies_unitgroup = (\n",
    "    vacs['4']\n",
    "    .merge(anzsco_, left_on='ANZSCO_CODE', right_on='Code', how='left')\n",
    "    [['State','Date','Code','Value','Unit group','Minor group','Submajor group','Major group']]\n",
    ")"
   ]
  },
  {
   "cell_type": "code",
   "execution_count": 31,
   "metadata": {},
   "outputs": [],
   "source": [
    "vacancies_unitgroup.to_csv('out/vacancies_unitgroup.csv', index=False)"
   ]
  }
 ],
 "metadata": {
  "kernelspec": {
   "display_name": ".venv",
   "language": "python",
   "name": "python3"
  },
  "language_info": {
   "codemirror_mode": {
    "name": "ipython",
    "version": 3
   },
   "file_extension": ".py",
   "mimetype": "text/x-python",
   "name": "python",
   "nbconvert_exporter": "python",
   "pygments_lexer": "ipython3",
   "version": "3.13.1"
  }
 },
 "nbformat": 4,
 "nbformat_minor": 2
}
