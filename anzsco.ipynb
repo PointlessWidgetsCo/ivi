{
 "cells": [
  {
   "cell_type": "code",
   "execution_count": 226,
   "metadata": {},
   "outputs": [],
   "source": [
    "import pandas as pd"
   ]
  },
  {
   "cell_type": "code",
   "execution_count": 227,
   "metadata": {},
   "outputs": [],
   "source": [
    "tree = pd.read_excel('data/ANZSCO 1220.0 Version 1.3.xlsx', sheet_name='Table 5', skiprows=9, skipfooter=2, dtype=str, keep_default_na=False)"
   ]
  },
  {
   "cell_type": "code",
   "execution_count": 228,
   "metadata": {},
   "outputs": [],
   "source": [
    "groups = ['Major', 'Submajor', 'Minor', 'Unit']\n",
    "\n",
    "occupations_dict = {}\n",
    "\n",
    "for g in range(len(groups)):\n",
    "    occupations_dict[groups[g]] = tree[tree.iloc[:,g].str.isdigit()].iloc[:,g:g+2].reset_index(drop=True)\n",
    "    occupations_dict[groups[g]].columns = ['Code','Title']\n",
    "\n",
    "occupations_dict['Occupation'] = tree[tree.iloc[:,4].str.isdigit()].iloc[:,4:7].reset_index(drop=True)\n",
    "occupations_dict['Occupation'].columns = ['Code','Title','Level']"
   ]
  },
  {
   "cell_type": "code",
   "execution_count": 229,
   "metadata": {},
   "outputs": [],
   "source": [
    "df = occupations_dict['Occupation']\n",
    "df['Code Major'] = df['Code'].str[:1]\n",
    "df['Code Submajor'] = df['Code'].str[:2]\n",
    "df['Code Minor'] = df['Code'].str[:3]\n",
    "df['Code Unit'] = df['Code'].str[:4]"
   ]
  },
  {
   "cell_type": "code",
   "execution_count": 230,
   "metadata": {},
   "outputs": [],
   "source": [
    "for group in groups:\n",
    "    df = df.merge(occupations_dict[group], how='left', left_on= 'Code ' + group, right_on='Code', suffixes=('', ' ' + group))"
   ]
  },
  {
   "cell_type": "code",
   "execution_count": 231,
   "metadata": {},
   "outputs": [],
   "source": [
    "df = df[['Code','Title','Level','Title Major','Title Submajor','Title Minor','Title Unit']]\n",
    "\n",
    "for group in groups:\n",
    "    df = df.rename(columns={'Title '+group : group+' group'})\n",
    "\n",
    "df['Major group'] = df['Major group'].str.title()"
   ]
  },
  {
   "cell_type": "code",
   "execution_count": 232,
   "metadata": {},
   "outputs": [],
   "source": [
    "df.to_csv('data/anzsco.csv', index=False)"
   ]
  }
 ],
 "metadata": {
  "kernelspec": {
   "display_name": ".venv",
   "language": "python",
   "name": "python3"
  },
  "language_info": {
   "codemirror_mode": {
    "name": "ipython",
    "version": 3
   },
   "file_extension": ".py",
   "mimetype": "text/x-python",
   "name": "python",
   "nbconvert_exporter": "python",
   "pygments_lexer": "ipython3",
   "version": "3.13.1"
  }
 },
 "nbformat": 4,
 "nbformat_minor": 2
}
